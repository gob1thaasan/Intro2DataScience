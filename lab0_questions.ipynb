{
  "cells": [
    {
      "cell_type": "markdown",
      "metadata": {
        "id": "view-in-github",
        "colab_type": "text"
      },
      "source": [
        "<a href=\"https://colab.research.google.com/github/gob1thaasan/Intro2DataScience/blob/main/lab0_questions.ipynb\" target=\"_parent\"><img src=\"https://colab.research.google.com/assets/colab-badge.svg\" alt=\"Open In Colab\"/></a>"
      ]
    },
    {
      "cell_type": "markdown",
      "source": [
        "\n",
        "**Pengenalan Kepada Sains Data(MDA3003)**\n",
        "\n",
        "**INTRODUCTION TO DATA SCIENCE(MDA3003)**\n",
        "\n",
        "\n",
        ">R.U.Gobithaasan (2022). Fountation of Data Science, Lectures for Undergraduate Degree Program B.Sc (Data Analytics), Faculty of Ocean Engineering Technology, University Malaysia Terengganu.\n",
        "https://sites.google.com/site/gobithaasan/\n",
        "\n",
        "\n",
        "<p align=\"center\">\n",
        "     © 2022 R.U. Gobithaasan All Rights Reserved.\n",
        "\n",
        "</p>"
      ],
      "metadata": {
        "id": "3tobzIW8F8IA"
      }
    },
    {
      "cell_type": "markdown",
      "metadata": {
        "id": "idgnYXbbFnBQ"
      },
      "source": [
        "# Lab 0: Python Prelimineries \n",
        "\n",
        "You may click in eaxh cell and understand how Jupyter notebook works.\n",
        "\n",
        "1. Command line reference\n",
        "2. Using Notebook\n",
        "3. Markdown Cells\n",
        "4. Scientific Python Ecosystem\n",
        "5. Documentation and Help files\n",
        "6. Input / Output caching\n",
        "\n",
        "**References:** \n",
        "- [w3schools Online Materials](https://www.w3schools.com/python/)\n",
        "-  [SciPi Lecture Notes](http://scipy-lectures.org/)\n",
        "- Robert Johansson, Numerical Python: Scientific Computing and Data Science Applications with Numpy, SciPy and Matplotlib (2019, Apress).\n",
        "- Donaldson Toby,Python: Visual QuickStart Guide (2008, Peachpit Press).\n",
        "- Tony Gaddis-Starting Out with Python,(2018,Global Edition-Pearson Education)\n",
        "- Robert Johansson August, Introduction to Scientific Computing in Python Continuum Analytics, (2015)"
      ]
    },
    {
      "cell_type": "markdown",
      "metadata": {
        "id": "jRjDVMJbFnBQ"
      },
      "source": [
        "# Command line reference\n",
        "Click on this link to see all the commands available: \n",
        "- [Windows commands](https://docs.microsoft.com/en-us/windows-server/administration/windows-commands/windows-commands)\n",
        "- [Mac](https://developer.apple.com/library/archive/documentation/OpenSource/Conceptual/ShellScripting/CommandLInePrimer/CommandLine.html)\n",
        "\n",
        "- you can run the command lines in python cell by adding ! in front of the command"
      ]
    },
    {
      "cell_type": "markdown",
      "metadata": {
        "id": "DeabwSXIFnBR"
      },
      "source": [
        "# Using Jupyter Notebook\n",
        "\n",
        "Depending the way you install Python and its location, you may run the following comannd in command prompt to run jupyter notebook or jupyterlab:\n",
        "\n",
        "- to run notebook, use any of this command:\n",
        "> - `py -m notebook`\n",
        "> - `python -m notebook`\n",
        "> - `jupyter notebook`\n",
        "\n",
        "-to run jupyterlab:\n",
        "> - `py -m jupyterlab`\n",
        "> - `jupyter-lab`\n",
        "\n",
        "Reference: [StackOverFlow](https://stackoverflow.com/questions/41034866/running-jupyter-via-command-line-on-windows)"
      ]
    },
    {
      "cell_type": "code",
      "execution_count": null,
      "metadata": {
        "id": "ti_lZu30FnBR",
        "outputId": "9d9e4669-4f83-4734-867c-9fc59ea96c4d"
      },
      "outputs": [
        {
          "name": "stdout",
          "output_type": "stream",
          "text": [
            "/c/Program Files/Python38/python\n"
          ]
        },
        {
          "name": "stderr",
          "output_type": "stream",
          "text": [
            "which: no #for in (/c/Users/Apple/bin:/mingw64/bin:/usr/local/bin:/usr/bin:/usr/bin:/mingw64/bin:/usr/bin:/c/Users/Apple/bin:/c/Python39/Scripts:/c/Python39:/c/Program Files/Python38/Scripts:/c/Program Files/Python38:/c/WINDOWS/system32:/c/WINDOWS:/c/WINDOWS/System32/Wbem:/c/WINDOWS/System32/WindowsPowerShell/v1.0:/c/WINDOWS/System32/OpenSSH:/c/Program Files/MiKTeX/miktex/bin/x64:/cmd:/c/Program Files/Wolfram Research/WolframScript:/c/Program Files/nodejs:/c/ProgramData/chocolatey/bin:/c/Users/Apple/AppData/Local/Microsoft/WindowsApps:/c/Users/Apple/AppData/Roaming/npm:/usr/bin/vendor_perl:/usr/bin/core_perl)\n",
            "which: no Linux in (./Mac)\n"
          ]
        }
      ],
      "source": [
        "!which python #for Mac/Linux"
      ]
    },
    {
      "cell_type": "markdown",
      "metadata": {
        "id": "R7A2S07BFnBS"
      },
      "source": [
        "## Opening *.ipynb file by clicking on the file directly:\n",
        "\n",
        "- Windows:\n",
        "    1. `pip install nbopen`\n",
        "    2. `python -m nbopen.install_win`\n",
        "\n"
      ]
    },
    {
      "cell_type": "markdown",
      "metadata": {
        "id": "GoEpgiMoFnBT"
      },
      "source": [
        "## Some shortcuts for formatting notebook"
      ]
    },
    {
      "cell_type": "markdown",
      "metadata": {
        "id": "FtPh8-LFFnBT"
      },
      "source": [
        " - b: Create a new cell below the currently selected cell. \n",
        "- a: Create a new cell above the currently selected cell. \n",
        "- d-d Delete the currently selected cell.\n",
        "- 1 to 6: Heading cell of level 1 to 6.\n",
        "- x: Cut currently selected cell.\n",
        "- c: Copy currently selected cell. \n",
        "- v: Paste cell from the clipboard. \n",
        "- m: Convert a cell to a markdown cell. \n",
        "- y: Convert a cell to a code cell. \n",
        "- Up: Select previous cell.\n",
        "- Down: Select next cell.\n",
        "- Enter: Enter edit mode.\n",
        "- Escape: Exit edit mode.\n",
        "- Shift-Enter: Run the cell.\n",
        "- h: Display a help window with a list of all available keyboard shortcuts.\n",
        "- 0-0: Restart the kernel. \n",
        "- i-i: Interrupt an executing cell. \n",
        "- s: Save the notebook."
      ]
    },
    {
      "cell_type": "markdown",
      "metadata": {
        "id": "iYmbMjSCFnBU"
      },
      "source": [
        "# Markdown Cells\n",
        "Summary of Markdown Syntax for Jupyter Notebook Markdown Cells"
      ]
    },
    {
      "cell_type": "markdown",
      "metadata": {
        "id": "DmmcFgtmFnBU"
      },
      "source": [
        "Fonts:\n",
        "\n",
        "- italics: *text*\n",
        "- bold: **text**\n",
        "- stike-through: ~~text~~\n",
        "- fixed-width: `text`\n",
        "- url: [URL text](https://www.google.com.my/maps/)\n",
        "- Vertatim( with tab):\n",
        "\n",
        "        def func(x):\n",
        "            return x ** 2\n",
        "            \n",
        "- New paragraph: with an empty line."
      ]
    },
    {
      "cell_type": "markdown",
      "metadata": {
        "id": "hm4syVelFnBV"
      },
      "source": [
        "- Types of headers:"
      ]
    },
    {
      "cell_type": "code",
      "execution_count": null,
      "metadata": {
        "id": "mv5cTRvIFnBV",
        "outputId": "3038c6f2-ad3b-4967-f1d8-8d2559aa2b65"
      },
      "outputs": [
        {
          "data": {
            "text/plain": [
              "' \\n# Level 1 heading \\n## Level 2 heading \\n### Level 3 heading\\n'"
            ]
          },
          "execution_count": 2,
          "metadata": {},
          "output_type": "execute_result"
        }
      ],
      "source": [
        "''' \n",
        "# Level 1 heading \n",
        "## Level 2 heading \n",
        "### Level 3 heading\n",
        "'''"
      ]
    },
    {
      "cell_type": "markdown",
      "metadata": {
        "id": "hV2qFSacFnBV"
      },
      "source": [
        "- Block quote:\n",
        "> Text here is indented and offset\n",
        "> from the main text body."
      ]
    },
    {
      "cell_type": "markdown",
      "metadata": {
        "id": "2FnNCU0eFnBV"
      },
      "source": [
        "- Unordered list (use - or * ):\n",
        "* Item one\n",
        "* Item two\n",
        "* Item three"
      ]
    },
    {
      "cell_type": "markdown",
      "metadata": {
        "id": "YIvmYd43FnBW"
      },
      "source": [
        "- Ordered list:\n",
        "1. Item one\n",
        "2. Item two\n",
        "3. Item three"
      ]
    },
    {
      "cell_type": "markdown",
      "metadata": {
        "tags": [],
        "id": "kBKU8HWOFnBW"
      },
      "source": [
        "Table:\n",
        "\n",
        "| A | B | C | \n",
        "|---|---|---| \n",
        "|1|2|3 | \n",
        "|4|5|6 |"
      ]
    },
    {
      "cell_type": "markdown",
      "metadata": {
        "id": "qF55_vJ4FnBW"
      },
      "source": [
        "- image: local machine"
      ]
    },
    {
      "cell_type": "markdown",
      "metadata": {
        "id": "_QBF6__nFnBW"
      },
      "source": [
        "`![Alternative text](https://github.com/gob1thaasan/ScientificComputingWithPython/blob/main/NotebookLectures/figures/python-logo.png?raw=1)`\n",
        "\n",
        "![Alternative text](figures/python-logo.png)"
      ]
    },
    {
      "cell_type": "markdown",
      "metadata": {
        "id": "Be6OwLxBFnBW"
      },
      "source": [
        "- image: internet"
      ]
    },
    {
      "cell_type": "markdown",
      "metadata": {
        "id": "8LUv0JoCFnBW"
      },
      "source": [
        "`![Alternative text](https://www.python.org/static/img/python-logo.png)`"
      ]
    },
    {
      "cell_type": "markdown",
      "metadata": {
        "id": "RsmlqQjbFnBX"
      },
      "source": [
        "- Inline LateX equation:\n",
        "\n",
        "$f2(x,y,z) = x^2 + y^3 + \\sqrt{z}$"
      ]
    },
    {
      "cell_type": "markdown",
      "metadata": {
        "id": "xRoO6FvhFnBX"
      },
      "source": [
        "- Displayed LateX equation. See some examples at [Latex Cookbook](http://www.personal.ceu.hu/tex/cookbook.html)\n",
        "\n",
        "\\begin{eqnarray}\n",
        " y &=& x^4 + 4      \\nonumber \\\\\n",
        "   &=& (x^2+2)^2 -4x^2 \\nonumber \\\\\n",
        "   &\\le&(x^2+2)^2\n",
        "\\end{eqnarray}"
      ]
    },
    {
      "cell_type": "markdown",
      "metadata": {
        "id": "htiuOmLjFnBX"
      },
      "source": [
        "## There are more details can be found at: [ibm markdown](https://www.ibm.com/docs/en/db2-event-store/2.0.0?topic=notebooks-markdown-jupyter-cheatsheet)"
      ]
    },
    {
      "cell_type": "markdown",
      "metadata": {
        "id": "jtMpQJYRFnBX"
      },
      "source": [
        "- colored boxes"
      ]
    },
    {
      "cell_type": "markdown",
      "metadata": {
        "id": "wV9v36L-FnBX"
      },
      "source": [
        "<div class=\"alert alert-block alert-info\">\n",
        "<b>Tip:</b> Use blue boxes (alert-info) for tips and notes. \n",
        "If it’s a note, you don’t have to include the word “Note”.\n",
        "</div>"
      ]
    },
    {
      "cell_type": "markdown",
      "metadata": {
        "id": "FQ9qX_7zFnBX"
      },
      "source": [
        "<div class=\"alert alert-block alert-warning\">\n",
        "<b>Example:</b> Use yellow boxes for examples that are not \n",
        "inside code cells, or use for mathematical formulas if needed.\n",
        "</div>"
      ]
    },
    {
      "cell_type": "markdown",
      "metadata": {
        "id": "vOu-IIyUFnBX"
      },
      "source": [
        "<div class=\"alert alert-block alert-success\">\n",
        "<b>Up to you:</b> Use green boxes sparingly, and only for some specific \n",
        "purpose that the other boxes can't cover. For example, if you have a lot \n",
        "of related content to link to, maybe you decide to use green boxes for \n",
        "related links from each section of a notebook.\n",
        "</div>"
      ]
    },
    {
      "cell_type": "markdown",
      "metadata": {
        "id": "RaGahKAwFnBY"
      },
      "source": [
        "<div class=\"alert alert-block alert-danger\">\n",
        "<b>Just don't:</b> In general, avoid the red boxes. These should only be\n",
        "used for actions that might cause data loss or another major issue.\n",
        "</div>"
      ]
    },
    {
      "cell_type": "markdown",
      "metadata": {
        "id": "BkcNmqXUFnBY"
      },
      "source": [
        "- simple [geometric shapes](https://www.w3schools.com/charsets/ref_utf_geometric.asp)"
      ]
    },
    {
      "cell_type": "markdown",
      "metadata": {
        "id": "gWWODToOFnBY"
      },
      "source": [
        "<p>I will display a :</p>\n",
        "\n",
        "1. triangle: &#9658;\n",
        "2. black box &#9726;\n",
        "3. white box &#9634;"
      ]
    },
    {
      "cell_type": "markdown",
      "metadata": {
        "id": "-cH0zXN-FnBY"
      },
      "source": [
        "- You do not need to run `%matplotlib inline` for interactive figure generation, figures will be generated in a separate window."
      ]
    },
    {
      "cell_type": "markdown",
      "metadata": {
        "id": "7mdVAh_hFnBY"
      },
      "source": [
        "# Scientific Python Ecosystem"
      ]
    },
    {
      "cell_type": "markdown",
      "metadata": {
        "id": "8v-UGEdPFnBY"
      },
      "source": [
        "What is a Python module/package/library?\n",
        "\n",
        "its also known as a package or library with written python functions available so that we directly use them.\n",
        "\n",
        "The Python Package Index (PyPI) is a repository of software for the Python programming language. Many packages can directly be loaded in your machine.\n",
        "\n",
        "\n",
        "run command: \n",
        "> python -m pip install *module*\n",
        "\n",
        "where *module* is the name of the module you want to install. For example to install a module called **pandas**:\n",
        "> python -m pip install pandas\n",
        "\n",
        "Core numeric libraries\n",
        "- **Numpy**: numerical computing with powerful numerical arrays objects, and routines to manip-\n",
        "ulate them. [Numpy](http://www.numpy.org/) \n",
        "\n",
        "- **Scipy**: high-level numerical routines. Optimization, regression, interpolation, etc. [Scipy](http://www.scipy.org/)\n",
        "\n",
        "- **Matplotlib**: 2-D visualization, “publication-ready” plots [Matplotlib](http://matplotlib.org/)\n",
        "\n",
        "source: [SciPi Lecture Notes](http://scipy-lectures.org/)"
      ]
    },
    {
      "cell_type": "markdown",
      "metadata": {
        "tags": [],
        "id": "FgDLSVbHFnBY"
      },
      "source": [
        "## Needed Modules / Libraries \n",
        "Pip install the modules you need.\n",
        "You may browse for modules at [PyPI · The Python Package Index](https://pypi.org)"
      ]
    },
    {
      "cell_type": "code",
      "execution_count": null,
      "metadata": {
        "scrolled": true,
        "id": "TnNVPU18FnBY",
        "outputId": "d4be7add-d59b-42fa-cf0b-d1d1e7218a89"
      },
      "outputs": [
        {
          "name": "stdout",
          "output_type": "stream",
          "text": [
            "Python 3.8.9\n"
          ]
        }
      ],
      "source": [
        "!python --version\n",
        "#!pip freeze | (grep 'matplotlib\\|numpy\\|jupyter\\|scipy') # For MAC and linux"
      ]
    },
    {
      "cell_type": "code",
      "execution_count": null,
      "metadata": {
        "id": "nXSRxVfiFnBZ"
      },
      "outputs": [],
      "source": [
        "#! pip list # for any OS"
      ]
    },
    {
      "cell_type": "markdown",
      "metadata": {
        "id": "wCh3HM2jFnBZ"
      },
      "source": [
        "### Loaded Modules"
      ]
    },
    {
      "cell_type": "code",
      "execution_count": null,
      "metadata": {
        "id": "SCUun-C7FnBZ"
      },
      "outputs": [],
      "source": [
        "import sys\n",
        "sys.modules.keys();"
      ]
    },
    {
      "cell_type": "code",
      "execution_count": null,
      "metadata": {
        "id": "IDkNuOLvFnBZ",
        "outputId": "a4c9581c-81c1-4e5d-ea6e-14e5c2715de7"
      },
      "outputs": [
        {
          "name": "stdout",
          "output_type": "stream",
          "text": [
            "['In', 'Out', '_', '_2', '__', '___', '__builtin__', '__builtins__', '__doc__', '__loader__', '__name__', '__package__', '__spec__', '_dh', '_exit_code', '_i', '_i1', '_i2', '_i3', '_i4', '_i5', '_i6', '_ih', '_ii', '_iii', '_oh', 'exit', 'get_ipython', 'quit', 'sys']\n"
          ]
        }
      ],
      "source": [
        "print(dir())"
      ]
    },
    {
      "cell_type": "code",
      "execution_count": null,
      "metadata": {
        "id": "kRAStjIhFnBZ",
        "outputId": "720fb8e7-178f-44de-9a06-0eca9687f553"
      },
      "outputs": [
        {
          "name": "stdout",
          "output_type": "stream",
          "text": [
            "sys\t \n"
          ]
        }
      ],
      "source": [
        "%who"
      ]
    },
    {
      "cell_type": "markdown",
      "source": [
        "- make sure to download the file called `myModule.py` in the same folder you save this folder.\n",
        "\n",
        "- You will import this module below"
      ],
      "metadata": {
        "id": "7__oMD5v07ys"
      }
    },
    {
      "cell_type": "code",
      "execution_count": null,
      "metadata": {
        "id": "3eHwCuFBFnBZ",
        "outputId": "20ed94bd-c495-4163-9864-c67f4780b424"
      },
      "outputs": [
        {
          "name": "stdout",
          "output_type": "stream",
          "text": [
            "['In', 'Out', '_', '_2', '__', '___', '__builtin__', '__builtins__', '__doc__', '__loader__', '__name__', '__package__', '__spec__', '_dh', '_exit_code', '_i', '_i1', '_i2', '_i3', '_i4', '_i5', '_i6', '_i7', '_i8', '_ih', '_ii', '_iii', '_oh', 'exit', 'get_ipython', 'myModule', 'quit', 'sys']\n"
          ]
        }
      ],
      "source": [
        "import myModule\n",
        "print(dir())"
      ]
    },
    {
      "cell_type": "code",
      "execution_count": null,
      "metadata": {
        "id": "w7J0ngDqFnBZ",
        "outputId": "c3100c48-e73e-4337-d83e-e848a0fb2a8d"
      },
      "outputs": [
        {
          "name": "stdout",
          "output_type": "stream",
          "text": [
            "myModule\t sys\t \n"
          ]
        }
      ],
      "source": [
        "%who"
      ]
    },
    {
      "cell_type": "code",
      "execution_count": null,
      "metadata": {
        "id": "HPJJsgsoFnBa"
      },
      "outputs": [],
      "source": [
        "del myModule"
      ]
    },
    {
      "cell_type": "code",
      "execution_count": null,
      "metadata": {
        "id": "IvLRcFHcFnBa",
        "outputId": "e5d9dd0d-d264-46ad-d5a6-9a0ed24eab23"
      },
      "outputs": [
        {
          "name": "stdout",
          "output_type": "stream",
          "text": [
            "sys\t \n"
          ]
        }
      ],
      "source": [
        "%who"
      ]
    },
    {
      "cell_type": "code",
      "execution_count": null,
      "metadata": {
        "id": "poHNC7CnFnBa"
      },
      "outputs": [],
      "source": [
        "a=2"
      ]
    },
    {
      "cell_type": "code",
      "execution_count": null,
      "metadata": {
        "id": "pq0PMEUDFnBa",
        "outputId": "420bfc4a-253b-4dfb-ed53-ecbfd28e4ef5"
      },
      "outputs": [
        {
          "data": {
            "text/plain": [
              "2"
            ]
          },
          "execution_count": 13,
          "metadata": {},
          "output_type": "execute_result"
        }
      ],
      "source": [
        "a"
      ]
    },
    {
      "cell_type": "code",
      "execution_count": null,
      "metadata": {
        "id": "GNWT9ZBKFnBa",
        "outputId": "3c0d56d0-ab9f-47f2-885c-ac625088dd9c"
      },
      "outputs": [
        {
          "name": "stdout",
          "output_type": "stream",
          "text": [
            "a\t sys\t \n"
          ]
        }
      ],
      "source": [
        "%who"
      ]
    },
    {
      "cell_type": "code",
      "execution_count": null,
      "metadata": {
        "id": "KsTBqtQlFnBa",
        "outputId": "464e34d3-30c7-4d7e-cc8c-6995e73bd92c"
      },
      "outputs": [
        {
          "data": {
            "text/plain": [
              "<module 'myModule' from 'G:\\\\Shared drives\\\\2022-MKG3303-ScientificComputation\\\\Lecture\\\\ScientificComputingWithPython\\\\NotebookLectures\\\\myModule.py'>"
            ]
          },
          "execution_count": 15,
          "metadata": {},
          "output_type": "execute_result"
        }
      ],
      "source": [
        "import myModule\n",
        "import importlib\n",
        "importlib.reload(myModule)"
      ]
    },
    {
      "cell_type": "markdown",
      "metadata": {
        "id": "T3QfE9MiFnBb"
      },
      "source": [
        "# Documentation & Help files"
      ]
    },
    {
      "cell_type": "code",
      "execution_count": null,
      "metadata": {
        "id": "7_5L67pZFnBb"
      },
      "outputs": [],
      "source": [
        "import math"
      ]
    },
    {
      "cell_type": "code",
      "execution_count": null,
      "metadata": {
        "id": "I08TFnEPFnBb",
        "outputId": "15d2ed6f-cc5f-4ebc-893e-9b7be8732899"
      },
      "outputs": [
        {
          "data": {
            "text/plain": [
              "16.0"
            ]
          },
          "execution_count": 17,
          "metadata": {},
          "output_type": "execute_result"
        }
      ],
      "source": [
        "math.pow(2,4)"
      ]
    },
    {
      "cell_type": "code",
      "execution_count": null,
      "metadata": {
        "id": "KFjXv3v_FnBb"
      },
      "outputs": [],
      "source": [
        "import math as m # importing a module"
      ]
    },
    {
      "cell_type": "code",
      "execution_count": null,
      "metadata": {
        "id": "WQGbvwFQFnBb",
        "outputId": "a0989cd2-15dc-43ae-fa6e-852d72b5ce91"
      },
      "outputs": [
        {
          "data": {
            "text/plain": [
              "32.0"
            ]
          },
          "execution_count": 19,
          "metadata": {},
          "output_type": "execute_result"
        }
      ],
      "source": [
        "m.pow(2,5)"
      ]
    },
    {
      "cell_type": "code",
      "execution_count": null,
      "metadata": {
        "id": "8-qVBP7sFnBb"
      },
      "outputs": [],
      "source": [
        " #m. #tab after the dot operator to see all available functions"
      ]
    },
    {
      "cell_type": "code",
      "execution_count": null,
      "metadata": {
        "scrolled": true,
        "tags": [],
        "id": "-nJg-rROFnBb",
        "outputId": "74f3ae10-bb4e-47f8-af7b-a44aa45bfb3d"
      },
      "outputs": [
        {
          "name": "stdout",
          "output_type": "stream",
          "text": [
            "Help on built-in function pow in module math:\n",
            "\n",
            "pow(x, y, /)\n",
            "    Return x**y (x to the power of y).\n",
            "\n"
          ]
        }
      ],
      "source": [
        "help(m.pow)"
      ]
    },
    {
      "cell_type": "code",
      "execution_count": null,
      "metadata": {
        "id": "AlZEZoxQFnBc"
      },
      "outputs": [],
      "source": [
        "# import a math module \n",
        "import math"
      ]
    },
    {
      "cell_type": "code",
      "execution_count": null,
      "metadata": {
        "id": "ThqAk5z2FnBc",
        "outputId": "0635e3c4-9830-4b3e-ac5d-554f5e1bfb7a"
      },
      "outputs": [
        {
          "name": "stdout",
          "output_type": "stream",
          "text": [
            "Help on built-in function log10 in module math:\n",
            "\n",
            "log10(x, /)\n",
            "    Return the base 10 logarithm of x.\n",
            "\n"
          ]
        }
      ],
      "source": [
        "help(math.log10)"
      ]
    },
    {
      "cell_type": "code",
      "execution_count": null,
      "metadata": {
        "id": "krsy00REFnBc",
        "outputId": "46511278-995a-4eef-f4ce-3a9efa9ffb55"
      },
      "outputs": [
        {
          "name": "stdout",
          "output_type": "stream",
          "text": [
            "Object `math.log10 # (For jupyter notebook) prompt a new window to show the info` not found.\n"
          ]
        }
      ],
      "source": [
        "?math.log10 # (For jupyter notebook) prompt a new window to show the info "
      ]
    },
    {
      "cell_type": "code",
      "execution_count": null,
      "metadata": {
        "id": "4qyWiPzNFnBc",
        "outputId": "ab1ec530-3c7f-4b0c-c39c-203bc7935c66"
      },
      "outputs": [
        {
          "name": "stdout",
          "output_type": "stream",
          "text": [
            "Help on built-in function log10 in module math:\n",
            "\n",
            "log10(x, /)\n",
            "    Return the base 10 logarithm of x.\n",
            "\n"
          ]
        }
      ],
      "source": [
        "help(math.log10)"
      ]
    },
    {
      "cell_type": "markdown",
      "metadata": {
        "id": "1Db2-abAFnBc"
      },
      "source": [
        "# Input output Caching"
      ]
    },
    {
      "cell_type": "code",
      "execution_count": null,
      "metadata": {
        "scrolled": true,
        "id": "7d4XBIdjFnBc",
        "outputId": "c59dfdc9-695d-477d-e8c5-f76bca8c1d59"
      },
      "outputs": [
        {
          "data": {
            "text/plain": [
              "14"
            ]
          },
          "execution_count": 26,
          "metadata": {},
          "output_type": "execute_result"
        }
      ],
      "source": [
        "5+9"
      ]
    },
    {
      "cell_type": "code",
      "execution_count": null,
      "metadata": {
        "tags": [],
        "id": "LE8Uau6pFnBc",
        "outputId": "99de15d8-9ab2-4597-be85-aad54fdb6da2"
      },
      "outputs": [
        {
          "data": {
            "text/plain": [
              "'5+9'"
            ]
          },
          "execution_count": 31,
          "metadata": {},
          "output_type": "execute_result"
        }
      ],
      "source": [
        "In[26] # previous input"
      ]
    },
    {
      "cell_type": "code",
      "execution_count": null,
      "metadata": {
        "tags": [],
        "id": "eWN8zTYlFnBc",
        "outputId": "bd76f104-6d16-47ee-b9af-1f332aaea706"
      },
      "outputs": [
        {
          "data": {
            "text/plain": [
              "14"
            ]
          },
          "execution_count": 30,
          "metadata": {},
          "output_type": "execute_result"
        }
      ],
      "source": [
        "Out[26] # previous output"
      ]
    },
    {
      "cell_type": "code",
      "execution_count": null,
      "metadata": {
        "id": "cL1nXtODFnBd"
      },
      "outputs": [],
      "source": []
    }
  ],
  "metadata": {
    "kernelspec": {
      "display_name": "Python 3 (ipykernel)",
      "language": "python",
      "name": "python3"
    },
    "language_info": {
      "codemirror_mode": {
        "name": "ipython",
        "version": 3
      },
      "file_extension": ".py",
      "mimetype": "text/x-python",
      "name": "python",
      "nbconvert_exporter": "python",
      "pygments_lexer": "ipython3",
      "version": "3.8.9"
    },
    "toc-autonumbering": true,
    "toc-showcode": false,
    "toc-showmarkdowntxt": false,
    "toc-showtags": false,
    "colab": {
      "provenance": [],
      "collapsed_sections": [],
      "include_colab_link": true
    }
  },
  "nbformat": 4,
  "nbformat_minor": 0
}