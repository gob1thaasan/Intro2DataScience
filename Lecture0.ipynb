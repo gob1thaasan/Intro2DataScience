{
 "cells": [
  {
   "cell_type": "markdown",
   "metadata": {
    "id": "8WIUhwcClrLL"
   },
   "source": [
    "#INTRODUCTION TO DATA SCIENCE(MDA3003)\n",
    "**Pengenalan Kepada Sains Data(MDA3003)**\n",
    "\n",
    ">R.U.Gobithaasan (2022). Intrdcution to\n",
    " Data Science, Lectures for Undergraduate Degree Program B.Sc (Data Analytics), Faculty of Ocean Engineering Technology, University Malaysia Terengganu.\n",
    "https://sites.google.com/site/gobithaasan/\n",
    "\n",
    "\n",
    "<p align=\"center\">\n",
    "     © 2022 R.U. Gobithaasan All Rights Reserved.\n",
    "\n",
    "</p>"
   ]
  },
  {
   "cell_type": "markdown",
   "metadata": {
    "id": "_fZAuW-4l0Yw"
   },
   "source": [
    "\n",
    "**Resources:** \n",
    "- Content of this course is adopted from this book.\n",
    "  - [Introduction to Data Mining by Pang-ning Tan, Michael Steinbach, Vipin Kumar](https://www-users.cse.umn.edu/~kumar001/dmbook/index.php)\n",
    "  - [Book: Data Science from Scratch First Principles with Python](https://www.oreilly.com/library/view/data-science-from/9781492041122/)\n",
    "  - [Github: Data Science from Scratch First Principles with Python](https://github.com/joelgrus/data-science-from-scratch)\n",
    "  - Jesus Rogel-Salazar, Data Science and Analytics with Python, CRC Press, Year: 2017\n",
    "  - Jesus Rogel-Salazar, Advanced Data Science and Analytics with Python, CRC Press, Year: 2020\n",
    "  - online ML work by [Jean de Dieu Nyandwi](https://nyandwi.com/machine_learning_complete/)\n",
    "  \n",
    "\n",
    "\n",
    "  \n",
    "\n",
    "- Python refs  \n",
    "  - [Python: w3schools Online Materials](https://www.w3schools.com/python/)\n",
    "  -  [Python: SciPi Lecture Notes](http://scipy-lectures.org/)\n",
    "  - [scikit-learn](https://scikit-learn.org/stable/user_guide.html)\n"
   ]
  },
  {
   "cell_type": "markdown",
   "metadata": {
    "id": "tZZhWSFWmk50"
   },
   "source": [
    "**Lecture Details:**\n",
    "- Tuesdays (10-12pm), \n",
    "- BS7:BILIK SEMINAR 7, ARAS 2 BANGUNAN UMT CONVENTION CENTRE (KK LAMA)\n",
    "\n",
    "**Lab Hours:**\n",
    "- Sundays (9-12pm), \n",
    "- CERMAT: MAKMAL CERMAT, FAKULTI TEKNOLOGI KEJURUTERAAN KELAUTAN & INFORMATIK\n",
    "\n"
   ]
  },
  {
   "cell_type": "markdown",
   "metadata": {
    "id": "B3j5hS8-V7TT"
   },
   "source": [
    "# Content\n",
    " [SK LEARN](https://scikit-learn.org/stable/user_guide.html) \n",
    "\n",
    "1. Introduction to Data Science\n",
    "    - Data Science\n",
    "    - Data Science Vs Data Mining.\n",
    "    - Data Science Lifecycle\n",
    "      - Lab 1: Introduction to Python programming\n",
    "\n",
    "2. Data type, collection and preparation; data acquisition, cleaning and aggregation\n",
    "    - Types of Data (Discrete Vs continuous) \n",
    "    - Dependent (Target) and Independent (Features) data\n",
    "    - Data Collection: Public domain\n",
    "    - Data Cleaning/Preparation\n",
    "      -  Lab 2: collection preparation, acquisition, cleaning and aggregation of data.\n",
    "\n",
    "\n",
    "3. Tabular Data Processing, Matching and Integration\t\t\t\t\t\t\n",
    "\n",
    "    - Tabular Data\n",
    "    - Numpy Array / Pandas Dataframe\n",
    "    - Useful Measures: Similarities and Disssimilaries\n",
    "      - Lab 3: Data Processing, Matching and Integration\n",
    "  \n",
    "4. Data Communication with Information Visualization\t\t\t\t\t\t\n",
    "    - Static Visualization\n",
    "    - Interactive Visualization\n",
    "      - Lab 4: Data Communication with Information Visualization\n",
    "\n",
    "5. Exploratory Data Analysis with Statistics, and machine learning\n",
    "\n",
    "    - descriptive statistics / distribution\n",
    "    - Intro to Machine Learnig: Classifiction/Clustering/Regression\n",
    "      - Lab 5: Data Analysis with Statistics, and machine learning\n",
    "\n",
    "\n",
    "6. Feature engineering and selection\t\t\t\t\t\t\n",
    "\n",
    "    - feature selection methods\n",
    "    - dimensionality reduction\n",
    "      - Lab 6: Feature engineering and selection.\n",
    "\n",
    "7. Data Modelling: Supervised/unsupervised learning\t\t\t\t\n",
    "  - Training / Testing Dataset\n",
    "  - classification\n",
    "  - clustering\n",
    "  - regression\n",
    "  - neural network (optional)\n",
    "      - Lab 7: Data Modelling\n",
    "\n",
    "\n",
    "8. model creation and validation\t\t\t\t\t\t\n",
    "\n",
    "  - Accuracies (underfitting, optimum and overfitting)\n",
    "  - Pipelines: chaining pre-processors and estimators\n",
    "  - Cross Validation\n",
    "  - Hyper-parameter tuning\n",
    "    - Lab 8: model creation and validation\n",
    "\n"
   ]
  },
  {
   "cell_type": "code",
   "execution_count": null,
   "metadata": {
    "id": "XiFoaVcJYRit"
   },
   "outputs": [],
   "source": []
  }
 ],
 "metadata": {
  "colab": {
   "authorship_tag": "ABX9TyOnJgeunTv4PwQ3EpQJzcbz",
   "collapsed_sections": [],
   "provenance": []
  },
  "kernelspec": {
   "display_name": "Python 3 (ipykernel)",
   "language": "python",
   "name": "python3"
  },
  "language_info": {
   "codemirror_mode": {
    "name": "ipython",
    "version": 3
   },
   "file_extension": ".py",
   "mimetype": "text/x-python",
   "name": "python",
   "nbconvert_exporter": "python",
   "pygments_lexer": "ipython3",
   "version": "3.8.3"
  }
 },
 "nbformat": 4,
 "nbformat_minor": 4
}
