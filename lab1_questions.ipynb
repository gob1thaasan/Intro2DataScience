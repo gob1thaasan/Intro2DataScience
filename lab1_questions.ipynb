{
 "cells": [
  {
   "cell_type": "markdown",
   "id": "d680a3df",
   "metadata": {
    "colab_type": "text",
    "id": "view-in-github"
   },
   "source": [
    "<a href=\"https://colab.research.google.com/github/gob1thaasan/Intro2DataScience/blob/main/lab1_questions.ipynb\" target=\"_parent\"><img src=\"https://colab.research.google.com/assets/colab-badge.svg\" alt=\"Open In Colab\"/></a>"
   ]
  },
  {
   "cell_type": "markdown",
   "id": "74056105-7119-43d2-bdd0-3f6d94a27ca1",
   "metadata": {
    "id": "74056105-7119-43d2-bdd0-3f6d94a27ca1"
   },
   "source": [
    "\n",
    "**Pengenalan Kepada Sains Data(MDA3003)**\n",
    "\n",
    "**INTRODUCTION TO DATA SCIENCE(MDA3003)**\n",
    "\n",
    "\n",
    ">R.U.Gobithaasan (2022). Fountation of Data Science, Lectures for Undergraduate Degree Program B.Sc (Data Analytics), Faculty of Ocean Engineering Technology, University Malaysia Terengganu.\n",
    "https://sites.google.com/site/gobithaasan/\n",
    "\n",
    "\n",
    "<p align=\"center\">\n",
    "     © 2022 R.U. Gobithaasan All Rights Reserved.\n",
    "\n",
    "</p>"
   ]
  },
  {
   "cell_type": "markdown",
   "id": "c8221f07-f4b0-4581-9cfe-3f0c09971cdb",
   "metadata": {
    "id": "c8221f07-f4b0-4581-9cfe-3f0c09971cdb",
    "tags": []
   },
   "source": [
    "## Lab 1 "
   ]
  },
  {
   "cell_type": "markdown",
   "id": "376ecc69-350c-48f7-90df-ca56bf958faf",
   "metadata": {
    "id": "376ecc69-350c-48f7-90df-ca56bf958faf",
    "tags": []
   },
   "source": [
    "## Fill up the following declaration details:\n",
    "**I certify that this report is my own work, based on my personal study and/or research. I also certify that this report has not previously been submitted for assessment in any other unit, and that I have not copied in part or whole or otherwise plagiarised the work of other students and/or persons.**\n",
    "- Name:\n",
    "- Matrix Number: \n",
    "- Date: \n"
   ]
  },
  {
   "cell_type": "markdown",
   "id": "45953749-32a4-4991-9a1d-636b06f9b0f5",
   "metadata": {
    "id": "45953749-32a4-4991-9a1d-636b06f9b0f5",
    "tags": []
   },
   "source": [
    "## General Instruction:\n",
    "Let say your matrix number is S54321. For computation below, ignore the first letter and use your matrix number by letting $\\mathbf{(\\alpha , \\beta, \\gamma, \\kappa, \\lambda) =(5,4,3,2,1)}$. Hence replace explicitly the values of greek letters as $\\alpha = 5, \\beta = 4, \\gamma = 3, \\kappa = 2, \\lambda =1$.\n",
    "\n",
    "\n",
    "For example:\n",
    "\n",
    "**Q0.** Compute $(\\beta * \\gamma * \\kappa)+{\\lambda})$:"
   ]
  },
  {
   "cell_type": "code",
   "execution_count": null,
   "id": "c9f58a13-e137-40f4-a494-aec184e947e4",
   "metadata": {
    "id": "c9f58a13-e137-40f4-a494-aec184e947e4",
    "outputId": "b5d8e442-3410-44f0-c553-bfbe251e2f62"
   },
   "outputs": [
    {
     "data": {
      "text/plain": [
       "25"
      ]
     },
     "execution_count": 1,
     "metadata": {},
     "output_type": "execute_result"
    }
   ],
   "source": [
    "(4*3*2)+1"
   ]
  },
  {
   "cell_type": "markdown",
   "id": "70dbe664-d309-4617-9e36-6d5b23321ef2",
   "metadata": {
    "id": "70dbe664-d309-4617-9e36-6d5b23321ef2",
    "tags": []
   },
   "source": [
    "## Name your file as follows before submiting via pembelajaran.umt.edu.my\n",
    "- save as **matrixnumber-labnumber.ipynb**: for example **S54321-LAB1.ipynb**"
   ]
  },
  {
   "cell_type": "markdown",
   "id": "390f8e18-fe44-4960-889c-faf04648cce7",
   "metadata": {
    "id": "390f8e18-fe44-4960-889c-faf04648cce7"
   },
   "source": [
    "# Lab 1: Introduction to Python    "
   ]
  },
  {
   "cell_type": "markdown",
   "id": "e27f92be-b667-4a2b-9ebe-61a859b9095b",
   "metadata": {
    "id": "e27f92be-b667-4a2b-9ebe-61a859b9095b"
   },
   "source": [
    "### 1.1 Elementary Data Types"
   ]
  },
  {
   "cell_type": "markdown",
   "id": "716164b2-a3f2-45ce-910d-f3a1cfcff826",
   "metadata": {
    "id": "716164b2-a3f2-45ce-910d-f3a1cfcff826"
   },
   "source": [
    "<b>Q1: What is the data type of the following variables?</b>\n",
    "\n",
    "1. x = $\\beta$ <br>\n",
    "2. y = true <br>\n",
    "3. z = $\\alpha.\\gamma$ <br>\n",
    "4. s = \"This is a string\" <br>"
   ]
  },
  {
   "cell_type": "markdown",
   "id": "e8076eac-590a-4b65-999d-19dfe0a73dfb",
   "metadata": {
    "id": "e8076eac-590a-4b65-999d-19dfe0a73dfb"
   },
   "source": [
    "<b>Q2: Perform the following arithmetic operations<b>\n",
    "    \n",
    "1. Let $x = \\gamma$. Find <br>\n",
    "a. $x+4$ <br>\n",
    "b. $ x\\times 4$ <br>\n",
    "c. $ x=x+2 $ <br>\n",
    "d. $ x = x\\times 4$ <br>\n",
    "e. the remainder of $x \\div 4$ <br>\n",
    "    \n",
    "2. Let $z = 3.7$. Find <br>\n",
    "a. $z - 2$ <br>\n",
    "b. $z \\div3 $ <br>\n",
    "c. nearest integer value when $z \\div 3$ <br>\n",
    "d. $z^2$ <br>\n",
    "e. $\\sqrt{z^2}$  <br>\n",
    "f. $z^2$ (use `pow()`) <br>\n",
    "g. round off $z$ to its nearest integer <br>\n",
    "h. integer of $z$ <br>"
   ]
  },
  {
   "cell_type": "markdown",
   "id": "f0fd9b7c-20d8-423b-8caa-c32ed4a71c53",
   "metadata": {
    "id": "f0fd9b7c-20d8-423b-8caa-c32ed4a71c53"
   },
   "source": [
    "<b>Q3 : Using `math` module find <b>\n",
    "    \n",
    "1. Let $x = γ$; <br>\n",
    "a. $\\sqrt{x}$ <br>\n",
    "b. $x^2$ <br>\n",
    "c. $e^x$<br>\n",
    "d. $ \\log _{2}x$ <br>\n",
    "e. $ |-x|$ <br>\n",
    "f. $x!$ <br>\n",
    "    \n",
    "2. Let $z = 0.2$ <br>\n",
    "a. the smallest integer greater than or equal to $z$ <br>\n",
    "b. the largest integer not greater than $z$  <br>\n",
    "c. the interger part of $z$ <br>\n",
    "    \n",
    "3. Let $z = β{\\pi}$  <br>\n",
    "a. $sin(z)$ <br>\n",
    "b. $tanh(z)$ <br>\n",
    "    \n",
    "4. Let $x = nan$ and check is it numeric data type <br>\n",
    "    \n",
    "5. Let $x = \\infty$ and check whether it is infinite or not <br>\n",
    "     "
   ]
  },
  {
   "cell_type": "markdown",
   "id": "2552f2ac-2261-46e9-bb9b-3d8710525283",
   "metadata": {
    "id": "2552f2ac-2261-46e9-bb9b-3d8710525283"
   },
   "source": [
    "<b> Q4 : If y1 = True and y2 = False, find the following logical operators\n",
    "    \n",
    "1. y1 AND y2 <br>\n",
    "2. y1 OR y2 <br>\n",
    "3. y1 NOT y2 <br>"
   ]
  },
  {
   "cell_type": "markdown",
   "id": "3ec84e46-cc61-4aa7-815b-3e4779c5a156",
   "metadata": {
    "id": "3ec84e46-cc61-4aa7-815b-3e4779c5a156"
   },
   "source": [
    "<b>Q5 : For the given string excute the following statements.\n",
    "    \n",
    "1. String 1 is 'This'; <br>\n",
    "a. print the last three characters <br>\n",
    "b. find the lenght of the string <br> \n",
    "c. Print 'Lenght of string is' along with the lenght of string <br>\n",
    "d. convert all the characters to upper case <br>\n",
    "e. convert all the characters to lower case <br>\n",
    "     \n",
    "2. String 2 is 'This is a string'; <br>\n",
    "a. print the first word of the string  <br>\n",
    "b. replace 'a' with 'another' <br>\n",
    "c. replace 'is' with 'at' <br>\n",
    "d. find the position of 'a' <br>\n",
    "  \n",
    "4. Using comparison operator find the following statements are true or false <br>\n",
    "a. String 1 is substring of String 2. <br>\n",
    "b. 'This' present in String 1. <br>\n",
    "c. 'That' is smaller than String 1. <br>\n",
    "    \n",
    "5. Replicate String 1 three times. <br>"
   ]
  },
  {
   "cell_type": "markdown",
   "id": "14c66424-9af6-4bc5-b441-0425c21a2861",
   "metadata": {
    "id": "14c66424-9af6-4bc5-b441-0425c21a2861"
   },
   "source": [
    "### 1.2 Data Types or called Containers"
   ]
  },
  {
   "cell_type": "markdown",
   "id": "f91b5af1-9084-4815-9e83-2de76277d7e4",
   "metadata": {
    "id": "f91b5af1-9084-4815-9e83-2de76277d7e4"
   },
   "source": [
    "<b> Q6 : Execute the following statements. <b>\n",
    "    \n",
    "1. Given intlist = [1,3,4,7,9] <br>\n",
    "a. What is the data type of the given sequence <br>\n",
    "b. Find the third elements from the list <br>\n",
    "c. Find the last three elements from the list <br>\n",
    "d. How many elements present in the list <br>\n",
    "e. What is the sum of all the element in the list <br>\n",
    "d. Insert  '11' to the list and then remove added element  <br>\n",
    "e. Concatenate [11,13,15] to the given list  <br>\n",
    "f. Replicate the list three times  <br>\n",
    "g. Replace the second element with 4<br>\n",
    "f. Sort elements of the given list in decending order  <br>\n",
    "     \n",
    "2. Create a list between 0 and 10 with the stepsize of two. (Name the list intlist2) \n"
   ]
  },
  {
   "cell_type": "markdown",
   "id": "a554568e-dfb1-4a66-922c-4146966503ea",
   "metadata": {
    "id": "a554568e-dfb1-4a66-922c-4146966503ea"
   },
   "source": [
    "<b> Q7 :  Given mylist = ['this', 'is', 'a', 'list']. <b>\n",
    "    \n",
    "1. What is the data type of the given string sequence <br> \n",
    "2. Check the element 'list' is whether present in the given sequence <br>\n",
    "3. What is the third element of the list <br>\n",
    "4. What is the first two element of the list <br>\n",
    "5. What is the last two element of the list <br>\n",
    "6. Insert the element 'too' into the given list <br>\n",
    "7. Remove the 'is' element from the list created in previous statement <br>\n",
    "    "
   ]
  },
  {
   "cell_type": "markdown",
   "id": "a59c19a3-4214-4942-aeb5-5a500fde6ec6",
   "metadata": {
    "id": "a59c19a3-4214-4942-aeb5-5a500fde6ec6"
   },
   "source": [
    "<b> Q8 :  Write a Python dictionary to abbreviate the following string. <b>\n",
    "    \n",
    "'Michigan' as 'MI'; 'Minnesota' as 'MN'; 'Texas' as 'TX'; 'California' as 'CA'. Then execute the following statement \n",
    "    \n",
    "1. Get the dictionary key as list <br>\n",
    "2. Get the values of dictionary as list <br>\n",
    "3. What is the abbrevation of 'MI' <br>\n",
    "4. Does the abbrevation of 'FI' is enlisted in the dictionary <br>\n",
    "5. Does the abbrevation of 'CA' is enlisted in the dictionary <br>"
   ]
  },
  {
   "cell_type": "markdown",
   "id": "dadfbe6b-b53b-40f5-99b2-200cd57ab0a0",
   "metadata": {
    "id": "dadfbe6b-b53b-40f5-99b2-200cd57ab0a0"
   },
   "source": [
    "<b> Q9 : Given keys = ['apples', 'oranges', 'bananas', 'cherries'] and values = [α, β, γ, κ] <b>\n",
    "    \n",
    "1. Convert the two given list into a dictionary (define the new dictionary as fruits) <br>\n",
    "2. Sort the keys from the 'fruits' dictionary <br>\n",
    "3. Sort the items in 'fruits' dictionary by keys in ascending order <br>\n",
    "4. Sort the items in 'fruits' dictionary by values in ascending order <br>"
   ]
  },
  {
   "cell_type": "markdown",
   "id": "7bc83126-53f9-4cdb-a712-7f91e6cc92e5",
   "metadata": {
    "id": "7bc83126-53f9-4cdb-a712-7f91e6cc92e5"
   },
   "source": [
    "<b> Q10 : Create tuple for the given list <b> \n",
    "    \n",
    "    i.   MItuple = MI, Michigan, Lansing\n",
    "    ii.  CAtuple = CA, California, Sacramento\n",
    "    iii. TXtuple = TX, Texas, Austin\n",
    "    \n",
    "1. Slice the second and third element from MItuple <br>\n",
    "2. Create a list of tuples using i, ii, iii and deifine it as states <br>\n",
    "3. What is the third element in the list of states <br>\n",
    "4. List down all the sub-elements in the third element of states <br>\n",
    "5. Slice the first sub-elements of the third element in states <br>\n",
    "6. Sort all the element in states by their capital cities in ascending order <br>"
   ]
  },
  {
   "cell_type": "markdown",
   "id": "7e23ecca-9ef2-4d99-b017-40b9a2ffec44",
   "metadata": {
    "id": "7e23ecca-9ef2-4d99-b017-40b9a2ffec44"
   },
   "source": [
    "<b> Q11 : Execute the following statements<b> \n",
    "    \n",
    "1. Create y0 as an empty set and print y0.\n",
    "2. Given y1 = {'c', 'd', 'e', 'f','e'}; y2 = {'x','c','d', 'f', 'e'}; y3 = {'c','a','t'} <br>\n",
    "a. print y1 <br>\n",
    "b. what is the data type of y1 <br>\n",
    "c. 'd' is an element of y1. Is the statement true?<br>\n",
    "d. y1 is equals to y2. Is the statement true?<br>\n",
    "e. Find the common element in y2 and y3 <br>"
   ]
  },
  {
   "cell_type": "markdown",
   "id": "35fa80b1-e73f-4d19-97ec-f1c19f2d6ff8",
   "metadata": {
    "id": "35fa80b1-e73f-4d19-97ec-f1c19f2d6ff8"
   },
   "source": [
    "<b> Q12 : Given x=10, write a code to check whether the given number is <b>\n",
    "    \n",
    "1. even or odd using if else statement.\n",
    "2. negative, positive or zero using `if-elif-else` statement."
   ]
  },
  {
   "cell_type": "markdown",
   "id": "f7fdaafe-cf59-429a-a383-458762aff25e",
   "metadata": {
    "id": "f7fdaafe-cf59-429a-a383-458762aff25e"
   },
   "source": [
    "<b> Q13 : Execute the following statements <b>\n",
    "    \n",
    "1. a. Given a list of string, mylist =  ['this', 'is', 'a', 'list']. Using `for` loop write a program to replace 'is' with 'at' in the mylist. \n",
    "    \n",
    "     b. Using for loop find the number of character of each element in the mylist \n",
    "    \n",
    "2. Given a list of tuples, states = [('MI', 'Michigan', 'Lansing'),('CA', 'California', 'Sacramento'), ('TX', 'Texas', 'Austin')]. Using for loop list find the capital os each state and sort it in ascending order. \n",
    "        "
   ]
  },
  {
   "cell_type": "markdown",
   "id": "b644bbec-e4d8-4627-be9e-0490362fd1f7",
   "metadata": {
    "id": "b644bbec-e4d8-4627-be9e-0490362fd1f7"
   },
   "source": [
    "<b> Q14: Let mylist = list(range(-10,10)). Create a while statement to print all the element in the list with an increment of 1. And then find the first non-negative element in the list. (Intialization : i=0) <b>"
   ]
  },
  {
   "cell_type": "markdown",
   "id": "1b60aa1f-f9cb-4c3b-95bd-ae842a3fd59f",
   "metadata": {
    "id": "1b60aa1f-f9cb-4c3b-95bd-ae842a3fd59f"
   },
   "source": [
    "### 1.4 User-Defined Functions\n",
    " "
   ]
  },
  {
   "cell_type": "markdown",
   "id": "4bd63fc5-7bfc-4bd8-bf08-e27133144eeb",
   "metadata": {
    "id": "4bd63fc5-7bfc-4bd8-bf08-e27133144eeb"
   },
   "source": [
    "<b> Q15 : Create function named `message` with output of \"Selamat Datang Ke UMT\"<b>"
   ]
  },
  {
   "cell_type": "markdown",
   "id": "6d72d0b8-7365-4e02-9d62-2b715f8721e5",
   "metadata": {
    "id": "6d72d0b8-7365-4e02-9d62-2b715f8721e5"
   },
   "source": [
    "<b> Q16 : Write a function to perform a query on even number. The Function should return a boolean output: True if the given number is even, else the output is False. Find the following values are even or not  <b>\n",
    "    \n",
    "1. 3\n",
    "2. 40\n",
    "3. 3.2"
   ]
  },
  {
   "cell_type": "markdown",
   "id": "ae0825e0-d749-44c3-98d5-26be1214a089",
   "metadata": {
    "id": "ae0825e0-d749-44c3-98d5-26be1214a089"
   },
   "source": [
    "<b> Q17 : Represent $f2(x,y,z) = \\beta x^2+y^3+ \\gamma \\sqrt{z}$  in the form of a function in Python and  find $f2(x)$\n",
    "    when $x=2$, $y=3$, $z=4$ and $x=3$, $y=5$,  $z=2.4$ <b>"
   ]
  },
  {
   "cell_type": "markdown",
   "id": "228887cb-d159-42b2-bd3e-e12c5e6c77b3",
   "metadata": {
    "id": "228887cb-d159-42b2-bd3e-e12c5e6c77b3"
   },
   "source": [
    "<b> Q18 : Represent $f3(x) = {3}{x^2}-{2}{x}+ \\gamma$ in the form of a function in Python and find $f3(x)$  when $x=3$ and $x=2$ <b>"
   ]
  },
  {
   "cell_type": "markdown",
   "id": "11e89781-c373-49ed-a6d6-a0af4dec4f89",
   "metadata": {
    "id": "11e89781-c373-49ed-a6d6-a0af4dec4f89"
   },
   "source": [
    "<b> Q19 : Execute the following statements<b>\n",
    "    \n",
    "1. Load iris data\n",
    "2. Create a dataframe\n",
    "3. Print the last 5 rows from the iris data\n",
    "4. extract the row entitled 'sepal length (cm)' and find it's data type\n",
    "5. What is the mean and standard deviation of the sepal length \n",
    "6. Compute basic statistics of the numerical data of iris data\n",
    "7. Plot a histogram of sepal length\n",
    "8. Plot a  scatter plot with  'sepal width (cm)' vs 'sepal length (cm)' <br>\n",
    "     <i>(Note: let x-axis be the sepal length  y-axis be the sepal width)\n",
    "9. Plot line graph of 'sepal length (cm)' and 'sepal width (cm)' in one figure. <br>\n",
    "     <i>(Note: let x-axis be the observations y-axis be the Sepal Length / Sepal Width. Please inclue the legends )\n",
    "    \n",
    "\n",
    "\n"
   ]
  },
  {
   "cell_type": "markdown",
   "id": "758889c9-6f83-4e0b-bed0-b554e958d7fe",
   "metadata": {
    "id": "758889c9-6f83-4e0b-bed0-b554e958d7fe"
   },
   "source": [
    "## Bonus\n",
    "<b> Q20 : Given states = [('MI', 'Michigan', 'Lansing'),('CA', 'California', 'Sacramento'), ('TX', 'Texas', 'Austin'), ('MN', 'Minnesota', 'St Paul')]. Write and read the list of tuples as a text file.  <b>\n",
    "    \n",
    "<i>**Note the output should follow this \"State = Name of the state (abbreviation) Capital: Capital of the state\""
   ]
  },
  {
   "cell_type": "code",
   "execution_count": null,
   "id": "FH6wCqPNxUDS",
   "metadata": {
    "id": "FH6wCqPNxUDS"
   },
   "outputs": [],
   "source": []
  }
 ],
 "metadata": {
  "colab": {
   "collapsed_sections": [],
   "include_colab_link": true,
   "provenance": []
  },
  "kernelspec": {
   "display_name": "Python 3 (ipykernel)",
   "language": "python",
   "name": "python3"
  },
  "language_info": {
   "codemirror_mode": {
    "name": "ipython",
    "version": 3
   },
   "file_extension": ".py",
   "mimetype": "text/x-python",
   "name": "python",
   "nbconvert_exporter": "python",
   "pygments_lexer": "ipython3",
   "version": "3.8.3"
  }
 },
 "nbformat": 4,
 "nbformat_minor": 5
}
