{
 "cells": [
  {
   "cell_type": "markdown",
   "id": "6027a45f-d731-4ff1-8527-b4db811bb2f9",
   "metadata": {
    "id": "fRuRcAt3F_wS"
   },
   "source": [
    "# INTRODUCTION TO DATA SCIENCE (MDA3003)**\n",
    "\n",
    "**Pengenalan Kepada Sains Data (MDA3003)**\n",
    "\n",
    "\n",
    ">R.U.Gobithaasan (2022). Introduction of Data Science, Lectures for Undergraduate Degree Program B.Sc (Data Analytics), Faculty of Ocean Engineering Technology, University Malaysia Terengganu.\n",
    "https://sites.google.com/site/gobithaasan/\n",
    "\n",
    "\n",
    "<p align=\"center\">\n",
    "     © 2022 R.U. Gobithaasan All Rights Reserved.\n",
    "\n",
    "</p>"
   ]
  },
  {
   "cell_type": "markdown",
   "id": "f645c31e-8483-437c-ba5f-5701b028b2b9",
   "metadata": {
    "jp-MarkdownHeadingCollapsed": true,
    "tags": []
   },
   "source": [
    "### Content of this course is adopted from the following books.\n",
    "  - [Introduction to Data Mining by Pang-ning Tan, Michael Steinbach, Vipin Kumar](https://www-users.cse.umn.edu/~kumar001/dmbook/index.php)\n",
    "  - [Data Mining and Machine Learning: Fundamental Concepts and Algorithms by\n",
    "Mohammed J. Zaki and Wagner Meira, Jr](https://dataminingbook.info/)\n",
    "\n",
    " - [Hands-On Machine Learning with Scikit-Learn, Keras, and TensorFlow: Concepts, Tools, and Techniques to Build Intelligent Systems by Aurélien Géron](https://github.com/ageron/handson-ml2)\n",
    "\n",
    "  - [Book: Data Science from Scratch First Principles with Python](https://www.oreilly.com/library/view/data-science-from/9781492041122/)\n",
    "  - [Github: Data Science from Scratch First Principles with Python](https://github.com/joelgrus/data-science-from-scratch)\n",
    "  - Jesus Rogel-Salazar, Data Science and Analytics with Python, CRC Press, Year: 2017\n",
    "  - Jesus Rogel-Salazar, Advanced Data Science and Analytics with Python, CRC Press, Year: 2020\n",
    "  - online ML work by [Jean de Dieu Nyandwi](https://nyandwi.com/machine_learning_complete/)\n",
    "  \n",
    "\n"
   ]
  },
  {
   "cell_type": "markdown",
   "id": "556eeda8-eebe-4282-a398-416de61765b5",
   "metadata": {
    "id": "376ecc69-350c-48f7-90df-ca56bf958faf",
    "tags": []
   },
   "source": [
    "## Fill up the following declaration details:\n",
    "**I certify that this report is my own work, based on my personal study and/or research. I also certify that this report has not previously been submitted for assessment in any other unit, and that I have not copied in part or whole or otherwise plagiarised the work of other students and/or persons.**\n",
    "- Name:\n",
    "- Matrix Number: \n",
    "- Date: \n"
   ]
  },
  {
   "cell_type": "markdown",
   "id": "5b5f2554-7b84-4d4b-b909-30b9992fedaf",
   "metadata": {},
   "source": [
    "# MARKS\n",
    "\n",
    "| ATTRIBUTES    | MARKS |\n",
    "| ----------- | ----------- |\n",
    "| 1. MODULE/FUNCTION     |       |\n",
    "| 2. SYNTAX/CODE/ REASONING  |      |\n",
    "| 3. DOCUMENTATION    |       |\n",
    "\n",
    "\n",
    "**inaccurate code, didn't achieve final PCA reduction**\n",
    "\n",
    "<u>Marks For MODULE/FUNCTION:\n",
    "    \n",
    "- Amateur (+1): Unable to use the right module/function.\n",
    "- Acceptable (+2): Module /function is somewhat suitable.\n",
    "- Admirable (+3): Module /function is suitable and partially solved the problem.\n",
    "- Exceptional (+4): Module /function is are clearly identified and the problem is solved without errors.\n",
    "\n",
    "<u> Marks For SYNTAX/CODE/ REASONING :\n",
    "    \n",
    "- Amateur (+1): Code is illogical, simplistic, inconsistent or does not work.\n",
    "- Acceptable (+2): Code contains some elements of logic and/or creative insight.\n",
    "- Admirable (+3): Code is mostly logical, complete, and consistent. Demonstrates some unique or creative insight.\n",
    "- Exceptional (+4): Code is consistently creative, complete and often unique.\n",
    "\n",
    "<u> Marks For DOCUMENTATION:\n",
    "    \n",
    "- Amateur (+1): Explanation is not stated or vague.\n",
    "- Acceptable (+2): Able to explain with some justification.\n",
    "- Admirable (+3): Conclusion mostly from results of analysis.\n",
    "- Exceptional (+4): Full justification presented following clear concluding statement. Specifics and multiple perspectives are present.\n",
    " "
   ]
  },
  {
   "cell_type": "markdown",
   "id": "88bd56f3-0608-4d91-b57c-e9080c8a6d49",
   "metadata": {
    "id": "45953749-32a4-4991-9a1d-636b06f9b0f5",
    "tags": []
   },
   "source": [
    "## General Instruction:\n",
    "Let say your matrix number is S54321. For computation below, ignore the first letter and use your matrix number by letting $\\mathbf{(\\alpha , \\beta, \\gamma, \\kappa, \\lambda) =(5,4,3,2,1)}$. Hence replace explicitly the values of greek letters as $\\alpha = 5, \\beta = 4, \\gamma = 3, \\kappa = 2, \\lambda =1$.\n",
    "\n",
    "\n",
    "For example:\n",
    "\n",
    "**Q0.** Compute $(\\beta * \\gamma * \\kappa)+{\\lambda})$:"
   ]
  },
  {
   "cell_type": "markdown",
   "id": "ac9069ae-3da6-41b9-88f1-cb26da15581c",
   "metadata": {},
   "source": [
    "# Lab 3: Data Processing, Matching and Integration"
   ]
  },
  {
   "cell_type": "markdown",
   "id": "db82e975-28ad-49ac-9960-82538ce11fd0",
   "metadata": {},
   "source": [
    "Lab 2 Content:\n",
    "\n",
    "**1. Using Pandas:**\n",
    "- California Housing Dataset\n",
    "\n",
    "**2. Using Numpy**\n",
    " - vectors\n",
    " - matrices\n",
    " - dataset: population\n",
    "\n",
    "\n",
    "**3. Similarities and Dissimilarities**\n",
    "\n"
   ]
  },
  {
   "cell_type": "markdown",
   "id": "20279a7f-b826-4b31-8b5b-6c5a7628b5c6",
   "metadata": {
    "tags": []
   },
   "source": [
    "# Prelimineries"
   ]
  },
  {
   "cell_type": "markdown",
   "id": "ed003c35-1004-41e4-b463-2fc8a30ec5fb",
   "metadata": {
    "id": "716164b2-a3f2-45ce-910d-f3a1cfcff826"
   },
   "source": [
    "<b>Q1:Install and import the following and identify its version:</b>\n",
    "\n",
    "1. Pandas\n",
    "2. sklearn\n",
    "3. numpy\n",
    "4. seaborn"
   ]
  },
  {
   "cell_type": "code",
   "execution_count": 5,
   "id": "4c4ca34d-b2d3-4714-96f2-718638eabac3",
   "metadata": {},
   "outputs": [],
   "source": [
    "import pandas as pd\n",
    "import numpy as np\n",
    "import matplotlib.pyplot as plt\n",
    "import seaborn as sns"
   ]
  },
  {
   "cell_type": "code",
   "execution_count": 8,
   "id": "36c7ff75-6753-41a6-b937-e62cee9d5aaf",
   "metadata": {},
   "outputs": [
    {
     "name": "stdout",
     "output_type": "stream",
     "text": [
      "1.4.3\n",
      "1.0.2\n",
      "1.22.4\n",
      "0.11.2\n"
     ]
    }
   ],
   "source": [
    "import sklearn, pandas, numpy, seaborn\n",
    "\n",
    "print(pandas.__version__)\n",
    "print(sklearn.__version__)\n",
    "print(numpy.__version__)\n",
    "print(seaborn.__version__)"
   ]
  },
  {
   "cell_type": "markdown",
   "id": "ae5e7b47-0c82-4ea6-a155-7bf2142da460",
   "metadata": {},
   "source": [
    "## Numpy: Vectors"
   ]
  },
  {
   "cell_type": "markdown",
   "id": "3abfa1a7-8cd0-4dae-9d55-21a829ee2d78",
   "metadata": {},
   "source": [
    "**Q2.**  A **vector** in ${\\mathbb{R}}^n$ is an $n$-tuple, or point, in ${\\mathbb{R}}^n$ can be represented in a row or column vector. Create a vector in ${\\mathbb{R}}^4$ as follows:\n",
    "- Create a  **row vector** and store is as $v_1 = (\\alpha , \\beta, \\gamma, \\kappa )$, \n",
    "- Create a **column vector** and store is as $v_2 =(\\beta, \\gamma, \\kappa \\lambda )$, . "
   ]
  },
  {
   "cell_type": "code",
   "execution_count": null,
   "id": "7e174d01-2f69-4033-b673-fad222d9b010",
   "metadata": {},
   "outputs": [],
   "source": []
  },
  {
   "cell_type": "markdown",
   "id": "7aa5b0f0-d80b-4d91-899c-8574720a87b2",
   "metadata": {},
   "source": [
    "**Q3.** The **norm** of a vector is a measure of its length is denoted as $\\Vert v \\Vert_{2}$ =$ \\sqrt{\\sum_i v_i^2}$. Find the norm of $v_2$.\n",
    "\n",
    "**TIPS:** use`linalg.norm()` function."
   ]
  },
  {
   "cell_type": "code",
   "execution_count": null,
   "id": "a108eac7-f157-43cf-a365-eda92f35da36",
   "metadata": {},
   "outputs": [],
   "source": []
  },
  {
   "cell_type": "markdown",
   "id": "9e92e571-9053-47df-a07c-c79289e2434d",
   "metadata": {},
   "source": [
    "**Q4.** First, Transpose $v_1$ and store it as $v_3$. Next, vector addition: $v_4 = v_2 + v_3$\n",
    "\n",
    "**TIPS:** use`.T`  or `transpose()` function."
   ]
  },
  {
   "cell_type": "code",
   "execution_count": null,
   "id": "06e05b71-9414-4038-b94d-a1258677abae",
   "metadata": {},
   "outputs": [],
   "source": []
  },
  {
   "cell_type": "markdown",
   "id": "b707c5ac-9f4d-423c-9501-75b27b12ac7a",
   "metadata": {},
   "source": [
    "**Q5.** Find the scalar product: $\\beta(v_2 + v_3)$\n"
   ]
  },
  {
   "cell_type": "code",
   "execution_count": null,
   "id": "4c3d99d2-3ef0-4162-9acd-ac9ea124f232",
   "metadata": {},
   "outputs": [],
   "source": []
  },
  {
   "cell_type": "markdown",
   "id": "4255d25a-46b2-4314-af45-3561ab87e242",
   "metadata": {
    "button": false,
    "new_sheet": false,
    "run_control": {
     "read_only": false
    }
   },
   "source": [
    "**Q6.** The **angle between two vectors**, $\\theta$, is defined by the formula:\n",
    "$$\n",
    "v \\cdot w = \\Vert v \\Vert_{2} \\Vert w \\Vert_{2} \\cos{\\theta}\n",
    "$$\n",
    " Compute the angle between the vectors $v_2$ and $v_3$. \n",
    " \n",
    " **TIPS:** use`linalg.norm`,`arccos()` and `dot` function."
   ]
  },
  {
   "cell_type": "code",
   "execution_count": null,
   "id": "c0d8b4d8-f857-4db4-8bf3-8fedbc585f10",
   "metadata": {},
   "outputs": [],
   "source": []
  },
  {
   "cell_type": "markdown",
   "id": "57b0f58c-54b1-473d-8a92-1c52c5a1bd94",
   "metadata": {
    "button": false,
    "new_sheet": false,
    "run_control": {
     "read_only": false
    }
   },
   "source": [
    "**Q7.** The **cross product** between two vectors, $v$ and $w$, is written $v \\times w$. The geometric interpretation of the cross product is a vector perpendicular to both $v$ and $w$ with length equal to the area enclosed by the parallelogram created by the two vectors.\n",
    "\n",
    "Given the vectors $v = [0, \\beta, 0]$ and $w = [\\kappa, 0, 0]$, use the Numpy function cross to compute the cross product of v and w."
   ]
  },
  {
   "cell_type": "code",
   "execution_count": null,
   "id": "c8175356-0a56-428f-9fde-6412081725c8",
   "metadata": {},
   "outputs": [],
   "source": []
  },
  {
   "cell_type": "markdown",
   "id": "83b70ceb-ff38-41b8-b8bc-735c244387af",
   "metadata": {},
   "source": [
    "# Numpy: Matrix"
   ]
  },
  {
   "cell_type": "markdown",
   "id": "952fc80a-b0f5-4865-a0e6-103488b0ee99",
   "metadata": {},
   "source": [
    "**Q7.**  Create matrix A using `ndarray`, by letting the elements in the form of `int64`:\n",
    "\n",
    "$$\n",
    "\\begin{equation}\n",
    "\tA_{3 \\times 3}=\\begin{bmatrix}\n",
    "\t  a_{11} & a_{12}  & a_{13} \\\\\n",
    "\t  a_{21} & a_{22} & a_{23} \\\\\n",
    "\t  a_{31} & a_{32} & a_{33} \n",
    "\t\\end{bmatrix}\n",
    " = \\begin{bmatrix}\n",
    "\t  1 & 5 & a_{13} \\\\\n",
    "\t  2 & 6 & a_{23} \\\\\n",
    "\t  3 & 7 & a_{33} \n",
    "\t\\end{bmatrix}\n",
    "\\end{equation}\n",
    "$$\n",
    "\n",
    "where $$\\mathbf{(a_{13}, a_{23},a_{33})=(\\alpha , \\beta, \\gamma)}$$ \n"
   ]
  },
  {
   "cell_type": "code",
   "execution_count": null,
   "id": "6de34086-ef77-4b7b-a08b-c42d7fb188af",
   "metadata": {},
   "outputs": [],
   "source": []
  },
  {
   "cell_type": "markdown",
   "id": "06d9f71c-b552-47ed-9a13-d9e1c6411a66",
   "metadata": {},
   "source": [
    "**Q8.**  Identify builtin NumPy's function to identify the following property of created matrix A above:\n",
    "\n",
    "1. row x column\n",
    "2. number of elements\n",
    "3. type of the elements\n",
    "4. number of bytes to store this matrix\n",
    "5. the dimension of this array"
   ]
  },
  {
   "cell_type": "code",
   "execution_count": null,
   "id": "4731bd40-b4c9-40a3-8a17-b221e31256f2",
   "metadata": {},
   "outputs": [],
   "source": []
  },
  {
   "cell_type": "markdown",
   "id": "d8eaa545-7deb-4a44-be9c-1804645160e6",
   "metadata": {},
   "source": [
    "**Q9.** Compute the following based on matrix A\n",
    "\n",
    "1. Transpose matrix A and save it as marix B\n",
    "2. Store the last column of matrix B as c3  \n",
    "3. Store the last row of matrix B as r3\n",
    "4. What is the enty of element $B_{3,3}$ \n",
    "5. Find the dot product of c3 and r3"
   ]
  },
  {
   "cell_type": "code",
   "execution_count": null,
   "id": "b9744b79-d9a8-4495-8cb2-96d0bca17323",
   "metadata": {},
   "outputs": [],
   "source": []
  },
  {
   "cell_type": "markdown",
   "id": "b8d85db8-1cc5-4e5d-869d-508ef1e42f7e",
   "metadata": {},
   "source": [
    "# Useful Measures: Similarities and Disssimilaries"
   ]
  },
  {
   "cell_type": "markdown",
   "id": "07b9de2d-283e-4794-94e9-08e70f668a94",
   "metadata": {},
   "source": [
    "There are various types of distance  matrices can be computed using [SCIPY: Scientific Computation Package](https://docs.scipy.org/doc/scipy/reference/spatial.distance.html)\n",
    "\n",
    "**Q10.** The **Minskowski Distance** of a vector is a a general measure distance denoted as $\\Vert v \\Vert_{2}$ =$ \\sqrt{\\sum_i v_i^2}$. Find the norm of $v_2$.\n",
    "\n",
    "- Create a  **row vector** and store is as $p_1 = (0,2)$, \n",
    "- Create a **row vector** and store is as $p_2 =(2,0)$,\n",
    "- Create a **row vector** and store is as $p_3 =(3,1)$,\n",
    "- Create a **row vector** and store is as $p_4 =(5,1)$. \n",
    "\n",
    "Compute Dissimilarities:\n",
    "1. Compute Euclidean,Manhattan,Supremum Distance between $p_2$ and $p_4$.\n",
    "2. Compute Euclidean,Manhattan,Supremum Distance between $p_1$ and $p_5$.\n",
    "\n",
    "Compute Similarities:\n",
    "1. Compute Cosine and Correlation between $p_2$ and $p_4$.\n",
    "2. Compute Cosine and Correlation between $p_1$ and $p_4$."
   ]
  },
  {
   "cell_type": "code",
   "execution_count": null,
   "id": "9efd3455-06ce-4bf6-bed8-2cdaf5483649",
   "metadata": {},
   "outputs": [],
   "source": []
  },
  {
   "cell_type": "code",
   "execution_count": null,
   "id": "ee5f441a-dcaf-4935-be0f-2d18d0c4a9d0",
   "metadata": {},
   "outputs": [],
   "source": []
  },
  {
   "cell_type": "markdown",
   "id": "eb97ec6a-6bec-4472-b958-e68559e685a1",
   "metadata": {},
   "source": [
    "**[Minkowski distance](https://docs.scipy.org/doc/scipy/reference/generated/scipy.spatial.distance.minkowski.html)** is a metric in a normed vector space. Minkowski distance is used for distance similarity of vector. Given two or more vectors, find distance similarity of these vectors.\n",
    "\n",
    " $\\Vert u-v \\Vert_p = (\\sum{|u_i - v_i|^p})^{1/p}$\n",
    "      \n",
    "\n",
    "**Q11.** Compute the questions above with `distance.minkowski` for Manhattan and Euclidean distance. Also find for  $p=3, 0.5$\n"
   ]
  },
  {
   "cell_type": "code",
   "execution_count": null,
   "id": "63f5e792-409f-4892-bc55-b52c11b11913",
   "metadata": {},
   "outputs": [],
   "source": []
  },
  {
   "cell_type": "markdown",
   "id": "f5b153c6-1c23-41fa-a099-1bbdfcea7d14",
   "metadata": {},
   "source": [
    "**Q12.** \n",
    "- Create a  **row vector** and store is as $v_1 = (\\alpha , \\beta, \\gamma, \\kappa )$, \n",
    "- Create a **row vector** and store is as $v_2 =(\\beta, \\gamma, \\kappa \\lambda )$, . \n",
    "\n",
    "Compute:\n",
    "\n",
    "1. compute Euclidean,Manhattan,Supremum Distance between $v_1$ and $v_2$.\n",
    "2. compute Minkowski distancefor  $p=3, 0.5$\n",
    "3. Compute Cosine and Correlation between $v_1$ and $v_2$.\n"
   ]
  },
  {
   "cell_type": "code",
   "execution_count": null,
   "id": "c222ec7d-e355-47b9-9b4f-d8565c373236",
   "metadata": {},
   "outputs": [],
   "source": []
  },
  {
   "cell_type": "markdown",
   "id": "369a63b5-2fd6-429f-b354-f66eacda9abe",
   "metadata": {},
   "source": [
    "**Q13.** Distance functions between two boolean vectors:\n",
    "- Create a  **row vector** and store is as $k_1 = (1,0,0,0,0,0,0,0,0,0)$, \n",
    "- Create a **row vector** and store is as $k_2 =(0,0,0,0,0,0,1,0,0,1)$, . \n",
    "\n",
    "Compute:\n",
    "\n",
    "1. Compute Hamming and Cosine between $k_1$ and $k_2$.\n",
    "2. Compute Jaccard-Nedham between $k_1$ and $k_2$.\n",
    "3. What is you conclusion? Are these two instances the same or not?\n",
    "\n",
    "\n",
    "*TIPS: Jaccard-Nedham is modified version* $ \\frac{c_{TF} + c_{FT}}\n",
    "        {c_{TT} + c_{FT} + c_{TF}} $, where T is 1 and F is 0.\n"
   ]
  },
  {
   "cell_type": "code",
   "execution_count": null,
   "id": "1fdc4b3c-ce81-4fb5-80a3-9037ac6b83d1",
   "metadata": {},
   "outputs": [],
   "source": []
  },
  {
   "cell_type": "code",
   "execution_count": null,
   "id": "9dfaa86d-4111-4b1b-a82d-d47eef2ad3a9",
   "metadata": {},
   "outputs": [],
   "source": []
  },
  {
   "cell_type": "markdown",
   "id": "6a761dca-78b1-494e-bfc1-a8d6f76b488b",
   "metadata": {},
   "source": [
    "**Q14.** Create a 8 bit two boolean vectors that are total different to each other and compute Hamming, Cosine and Jaccardf-Nedham diance to proof.\n",
    "\n"
   ]
  },
  {
   "cell_type": "code",
   "execution_count": null,
   "id": "59af3114-ede2-40db-87a3-fcec4e170916",
   "metadata": {},
   "outputs": [],
   "source": []
  },
  {
   "cell_type": "markdown",
   "id": "1fdc05b5-9003-4a2e-81df-8e73811f1c9f",
   "metadata": {},
   "source": [
    "# Numpy: Data Explolation, Processing & Matching"
   ]
  },
  {
   "cell_type": "markdown",
   "id": "ed598fb4-33c7-46bb-8c02-d372f517ac40",
   "metadata": {},
   "source": [
    "**Q15**: Load population.csv as `samples` file in this notebook using `numpy` package and the following:\n",
    "\n",
    "1. what is the type of numpy container does `sample` has?\n",
    "2. make sure the sample consist of each attribute as a column.\n"
   ]
  },
  {
   "cell_type": "code",
   "execution_count": 101,
   "id": "96d42a27-70e6-4580-9fd2-8154660536e9",
   "metadata": {},
   "outputs": [
    {
     "name": "stdout",
     "output_type": "stream",
     "text": [
      "<class 'numpy.ndarray'>\n"
     ]
    },
    {
     "data": {
      "text/plain": [
       "array([[ 1900., 30000.,  4000., 48300.],\n",
       "       [ 1901., 47200.,  6100., 48200.],\n",
       "       [ 1902., 70200.,  9800., 41500.],\n",
       "       [ 1903., 77400., 35200., 38200.],\n",
       "       [ 1904., 36300., 59400., 40600.],\n",
       "       [ 1905., 20600., 41700., 39800.],\n",
       "       [ 1906., 18100., 19000., 38600.],\n",
       "       [ 1907., 21400., 13000., 42300.],\n",
       "       [ 1908., 22000.,  8300., 44500.],\n",
       "       [ 1909., 25400.,  9100., 42100.],\n",
       "       [ 1910., 27100.,  7400., 46000.],\n",
       "       [ 1911., 40300.,  8000., 46800.],\n",
       "       [ 1912., 57000., 12300., 43800.],\n",
       "       [ 1913., 76600., 19500., 40900.],\n",
       "       [ 1914., 52300., 45700., 39400.],\n",
       "       [ 1915., 19500., 51100., 39000.],\n",
       "       [ 1916., 11200., 29700., 36700.],\n",
       "       [ 1917.,  7600., 15800., 41800.],\n",
       "       [ 1918., 14600.,  9700., 43300.],\n",
       "       [ 1919., 16200., 10100., 41300.],\n",
       "       [ 1920., 24700.,  8600., 47300.]])"
      ]
     },
     "execution_count": 101,
     "metadata": {},
     "output_type": "execute_result"
    }
   ],
   "source": [
    "import numpy as np\n",
    "samples = np.loadtxt('populations.csv', delimiter=',')\n",
    "print(type(samples))\n",
    "samples"
   ]
  },
  {
   "cell_type": "markdown",
   "id": "f8deb216-1f0c-4709-a721-c4820cae4e97",
   "metadata": {},
   "source": [
    "**Q16** Name each attribute as year, hares, lynxes, carrots and call out `year`."
   ]
  },
  {
   "cell_type": "code",
   "execution_count": null,
   "id": "126a40c1-d4d9-4d0b-beb3-d9b9ea413a08",
   "metadata": {},
   "outputs": [],
   "source": []
  },
  {
   "cell_type": "code",
   "execution_count": null,
   "id": "8539dc20-ae50-4140-9a9d-6820899b4c4e",
   "metadata": {},
   "outputs": [],
   "source": []
  },
  {
   "cell_type": "markdown",
   "id": "33a948e0-9a4a-4b45-bfdf-0e7cf1d7ee9c",
   "metadata": {},
   "source": [
    "**Q17** Call out the $\\gamma$ instance of`sample`."
   ]
  },
  {
   "cell_type": "code",
   "execution_count": null,
   "id": "6015e4d6-8097-4ec6-a5c4-74457441905c",
   "metadata": {},
   "outputs": [],
   "source": []
  },
  {
   "cell_type": "markdown",
   "id": "e9483389-456a-4529-a4d7-31aec893a0d3",
   "metadata": {},
   "source": [
    "**Q18** using numpy's `mean` function to calculate the mean for hares, lynxs and carrots."
   ]
  },
  {
   "cell_type": "code",
   "execution_count": null,
   "id": "e5bc7c10-eb24-4e86-8419-3fb56b5b78e0",
   "metadata": {},
   "outputs": [],
   "source": []
  },
  {
   "cell_type": "markdown",
   "id": "8a184d7f-8d9f-452e-8a2c-004e4f17e3ed",
   "metadata": {},
   "source": [
    "**Q19** Which year each species had the largest population?"
   ]
  },
  {
   "cell_type": "code",
   "execution_count": null,
   "id": "14210cfc-91d7-4d7f-9af7-ca702d28cb1c",
   "metadata": {},
   "outputs": [],
   "source": []
  },
  {
   "cell_type": "markdown",
   "id": "2840e47d-f9eb-4a71-a74a-9fe9cf0ba59e",
   "metadata": {},
   "source": [
    "**Q20** Which year carrots were lowest and identify the corresponding hares and lynxes that year."
   ]
  },
  {
   "cell_type": "code",
   "execution_count": null,
   "id": "c523c62c-845a-4707-b7c7-1b559681a347",
   "metadata": {},
   "outputs": [],
   "source": []
  },
  {
   "cell_type": "markdown",
   "id": "f244a893-f9e4-4d5a-8cd8-41b81991cbe7",
   "metadata": {},
   "source": [
    "**Q21** Compute the Euclidean Distance Matrix and visualize the matrix"
   ]
  },
  {
   "cell_type": "code",
   "execution_count": null,
   "id": "9d64f7f1-3b2a-40b4-adce-4d850ac61d3c",
   "metadata": {},
   "outputs": [],
   "source": []
  },
  {
   "cell_type": "markdown",
   "id": "1f06d884-e832-43d3-983d-dc3843e00984",
   "metadata": {},
   "source": [
    "**Q22** Compute the Manhattan Distance Matrix and visualize the matrix"
   ]
  },
  {
   "cell_type": "code",
   "execution_count": null,
   "id": "c909895c-cc1f-4dbf-aed9-38da5f455942",
   "metadata": {},
   "outputs": [],
   "source": []
  },
  {
   "cell_type": "markdown",
   "id": "1f291fb5-ed24-4d80-8d5d-2646e2fa8ed5",
   "metadata": {},
   "source": [
    "**Q23** Compute the Cosine Distance Matrix and visualize the matrix"
   ]
  },
  {
   "cell_type": "code",
   "execution_count": null,
   "id": "1a53309f-7df6-47fe-b265-a151c241540b",
   "metadata": {},
   "outputs": [],
   "source": []
  },
  {
   "cell_type": "markdown",
   "id": "5cfa83f5-2a7f-4c03-91eb-4bdf76d74820",
   "metadata": {},
   "source": [
    "# Bonus: CSV data file to Pandas Dataframe"
   ]
  },
  {
   "cell_type": "markdown",
   "id": "530b85b5-ef54-48b1-8164-2c2500d8abe0",
   "metadata": {},
   "source": [
    "**QX** Convert numpy to pandas dataframe: year, hares, lynxes, carrots"
   ]
  },
  {
   "cell_type": "code",
   "execution_count": null,
   "id": "c4732ac8-2494-4ef4-ab10-306a24d3b728",
   "metadata": {},
   "outputs": [],
   "source": []
  },
  {
   "cell_type": "markdown",
   "id": "fafba3e0-1ee0-46d5-a940-39a3544279a0",
   "metadata": {},
   "source": [
    "**QX** Compute its Correlation Matrix"
   ]
  },
  {
   "cell_type": "code",
   "execution_count": null,
   "id": "3aa4a34b-5fbd-4bec-8c0f-6dd10f19056a",
   "metadata": {},
   "outputs": [],
   "source": []
  },
  {
   "cell_type": "markdown",
   "id": "677a6c75-8b07-420a-9c80-ce314fc25772",
   "metadata": {},
   "source": [
    "**QX** Plot its Correlation Matrix using Seaborn "
   ]
  },
  {
   "cell_type": "code",
   "execution_count": null,
   "id": "4a5f67bc-fa7f-4160-8dd8-5862fb6d904a",
   "metadata": {},
   "outputs": [],
   "source": []
  },
  {
   "cell_type": "code",
   "execution_count": null,
   "id": "dafe0d11-5879-41bb-98da-a57d2a598db4",
   "metadata": {},
   "outputs": [],
   "source": []
  }
 ],
 "metadata": {
  "kernelspec": {
   "display_name": "Python 3 (ipykernel)",
   "language": "python",
   "name": "python3"
  },
  "language_info": {
   "codemirror_mode": {
    "name": "ipython",
    "version": 3
   },
   "file_extension": ".py",
   "mimetype": "text/x-python",
   "name": "python",
   "nbconvert_exporter": "python",
   "pygments_lexer": "ipython3",
   "version": "3.8.3"
  }
 },
 "nbformat": 4,
 "nbformat_minor": 5
}
